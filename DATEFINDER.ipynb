{
  "nbformat": 4,
  "nbformat_minor": 0,
  "metadata": {
    "colab": {
      "name": "DATEFINDER.ipynb",
      "provenance": [],
      "collapsed_sections": [],
      "authorship_tag": "ABX9TyMPwmai0YD5kTG8KT3aGF0f",
      "include_colab_link": true
    },
    "kernelspec": {
      "name": "python3",
      "display_name": "Python 3"
    }
  },
  "cells": [
    {
      "cell_type": "markdown",
      "metadata": {
        "id": "view-in-github",
        "colab_type": "text"
      },
      "source": [
        "<a href=\"https://colab.research.google.com/github/DanturtiSaiPavan/newintern/blob/master/DATEFINDER.ipynb\" target=\"_parent\"><img src=\"https://colab.research.google.com/assets/colab-badge.svg\" alt=\"Open In Colab\"/></a>"
      ]
    },
    {
      "cell_type": "markdown",
      "metadata": {
        "id": "-GXxufOwg-Mq",
        "colab_type": "text"
      },
      "source": [
        "THIS PROJECT IS A DATE FINDING AND DATE MANUPILATION CODE USING PYTHON.\n",
        "THIS PROJECT INCLUDES FOLLOWING MODULES\n",
        "\n",
        "\n",
        "\n",
        "\n",
        "*   NUMPY\n",
        "*   PANDAS\n",
        "*   ITERTOOLS\n",
        "*   DATETIME\n",
        "*   DATEFINDER\n",
        "\n"
      ]
    },
    {
      "cell_type": "code",
      "metadata": {
        "id": "UuFpIuWZ4pxx",
        "colab_type": "code",
        "colab": {}
      },
      "source": [
        "import numpy as np #for array use\n",
        "import pandas as pd #for dataframes\n"
      ],
      "execution_count": null,
      "outputs": []
    },
    {
      "cell_type": "markdown",
      "metadata": {
        "id": "zyyfBn-06E-A",
        "colab_type": "text"
      },
      "source": [
        "Write a function in python that inputs a dataframe and identify which columns have date in them. Using these date columns make new columns which are difference between these columns taking 2 at a time. (for instance if there is date1, date2, date3 columns, output should be like date1-date2, date2-date3, date1-date3). For this problem only, print out data in the colab.\n",
        "\n",
        "Thing to consider\n",
        "\n",
        "· Date column might have some invalid entries in them\n",
        "\n",
        "· Date can be of different format throughout the column\n",
        "\n",
        "· Code should be efficient and fast\n",
        "\n"
      ]
    },
    {
      "cell_type": "markdown",
      "metadata": {
        "id": "T4JvNj2hkU9i",
        "colab_type": "text"
      },
      "source": [
        "sol:For this there is a built in module called **datefinder**\n",
        "A python module for locating dates inside text. We use this package to extract all sorts of date like strings from a document and turn them into datetime objects.\n",
        "\n",
        "This module finds the likely datetime strings and then uses the dateparser package to convert to the datetime object.\n",
        "The obtained datetime object is converted to string by **str()**function."
      ]
    },
    {
      "cell_type": "markdown",
      "metadata": {
        "id": "Rybbt3D2kPpk",
        "colab_type": "text"
      },
      "source": [
        ""
      ]
    },
    {
      "cell_type": "code",
      "metadata": {
        "id": "haVaJYvYlsHn",
        "colab_type": "code",
        "colab": {
          "base_uri": "https://localhost:8080/",
          "height": 174
        },
        "outputId": "89ee031e-fcc3-45dd-ba43-24dc65bcdb39"
      },
      "source": [
        "!pip install datefinder"
      ],
      "execution_count": null,
      "outputs": [
        {
          "output_type": "stream",
          "text": [
            "Collecting datefinder\n",
            "  Downloading https://files.pythonhosted.org/packages/0c/4f/29524c9ca35d2ba1a8a3c6c895b90fc92525cf0fe357f747133890953ebe/datefinder-0.7.1-py2.py3-none-any.whl\n",
            "Requirement already satisfied: pytz in /usr/local/lib/python3.6/dist-packages (from datefinder) (2018.9)\n",
            "Requirement already satisfied: python-dateutil>=2.4.2 in /usr/local/lib/python3.6/dist-packages (from datefinder) (2.8.1)\n",
            "Requirement already satisfied: regex>=2017.02.08 in /usr/local/lib/python3.6/dist-packages (from datefinder) (2019.12.20)\n",
            "Requirement already satisfied: six>=1.5 in /usr/local/lib/python3.6/dist-packages (from python-dateutil>=2.4.2->datefinder) (1.15.0)\n",
            "Installing collected packages: datefinder\n",
            "Successfully installed datefinder-0.7.1\n"
          ],
          "name": "stdout"
        }
      ]
    },
    {
      "cell_type": "code",
      "metadata": {
        "id": "9ciOmiNDF4JK",
        "colab_type": "code",
        "colab": {
          "base_uri": "https://localhost:8080/",
          "height": 68
        },
        "outputId": "134573c3-17ac-40d0-c724-dfd1597f6472"
      },
      "source": [
        "import datefinder\n",
        "import datetime\n",
        "from datetime import datetime\n",
        "#lets make strings of dates with different formats to check the performance.\n",
        "string1='''23-Mar 2019 8:42 PM'''\n",
        "string2='''January 4th, 2017 6 AM'''\n",
        "string3=''' 27/07/1999 is my B.day'''\n",
        "\n",
        "date1=datefinder.find_dates(string1)\n",
        "date2=datefinder.find_dates(string2)\n",
        "date3=datefinder.find_dates(string3)\n",
        "for d in date1:\n",
        " l=str(d)\n",
        " print(l)\n",
        "for d in date2:\n",
        " l=str(d)\n",
        " print(l)\n",
        "for d in date3:\n",
        " l=str(d)\n",
        " print(l)"
      ],
      "execution_count": null,
      "outputs": [
        {
          "output_type": "stream",
          "text": [
            "2019-03-23 20:42:00\n",
            "2017-01-04 06:00:00\n",
            "1999-07-27 00:00:00\n"
          ],
          "name": "stdout"
        }
      ]
    },
    {
      "cell_type": "code",
      "metadata": {
        "id": "A6xXCDr652c8",
        "colab_type": "code",
        "colab": {
          "resources": {
            "http://localhost:8080/nbextensions/google.colab/files.js": {
              "data": "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",
              "ok": true,
              "headers": [
                [
                  "content-type",
                  "application/javascript"
                ]
              ],
              "status": 200,
              "status_text": ""
            }
          },
          "base_uri": "https://localhost:8080/",
          "height": 72
        },
        "outputId": "f66bda20-317c-4da6-c635-ff3294207109"
      },
      "source": [
        "from google.colab import files\n",
        "uploaded = files.upload()\n",
        "import io\n",
        "df2 = pd.read_csv(io.BytesIO(uploaded['ipl schedule.csv']))"
      ],
      "execution_count": null,
      "outputs": [
        {
          "output_type": "display_data",
          "data": {
            "text/html": [
              "\n",
              "     <input type=\"file\" id=\"files-9e77cb85-1fc7-49de-9d05-3c6503cd33e4\" name=\"files[]\" multiple disabled\n",
              "        style=\"border:none\" />\n",
              "     <output id=\"result-9e77cb85-1fc7-49de-9d05-3c6503cd33e4\">\n",
              "      Upload widget is only available when the cell has been executed in the\n",
              "      current browser session. Please rerun this cell to enable.\n",
              "      </output>\n",
              "      <script src=\"/nbextensions/google.colab/files.js\"></script> "
            ],
            "text/plain": [
              "<IPython.core.display.HTML object>"
            ]
          },
          "metadata": {
            "tags": []
          }
        },
        {
          "output_type": "stream",
          "text": [
            "Saving ipl schedule.csv to ipl schedule.csv\n"
          ],
          "name": "stdout"
        }
      ]
    },
    {
      "cell_type": "markdown",
      "metadata": {
        "id": "CIr0SPziCKaN",
        "colab_type": "text"
      },
      "source": [
        "This dataset has column of date and time  with different format, our goal is make another column with proper date format and perform some cleaning operations "
      ]
    },
    {
      "cell_type": "code",
      "metadata": {
        "id": "FEf2t-t0amZQ",
        "colab_type": "code",
        "colab": {
          "base_uri": "https://localhost:8080/",
          "height": 120
        },
        "outputId": "f65907e5-a1e1-4e7b-fb8b-83e1ff80a91d"
      },
      "source": [
        "# Checking the data type\n",
        "df2.dtypes"
      ],
      "execution_count": null,
      "outputs": [
        {
          "output_type": "execute_result",
          "data": {
            "text/plain": [
              "Date and time     object\n",
              "Team 2019 IPL     object\n",
              "Team 2019 IPL2    object\n",
              "Venue             object\n",
              "new_date          object\n",
              "dtype: object"
            ]
          },
          "metadata": {
            "tags": []
          },
          "execution_count": 22
        }
      ]
    },
    {
      "cell_type": "code",
      "metadata": {
        "id": "HknocikVDe_5",
        "colab_type": "code",
        "colab": {
          "base_uri": "https://localhost:8080/",
          "height": 419
        },
        "outputId": "e3173171-cbeb-42cc-a6c1-de8eb4ea5bff"
      },
      "source": [
        "#since dataset is made as random dataset we need to drop unnamed columns\n",
        "df2.drop(df2.columns[df2.columns.str.contains('unnamed',case = False)],axis = 1, inplace = True)\n",
        "df2"
      ],
      "execution_count": null,
      "outputs": [
        {
          "output_type": "execute_result",
          "data": {
            "text/html": [
              "<div>\n",
              "<style scoped>\n",
              "    .dataframe tbody tr th:only-of-type {\n",
              "        vertical-align: middle;\n",
              "    }\n",
              "\n",
              "    .dataframe tbody tr th {\n",
              "        vertical-align: top;\n",
              "    }\n",
              "\n",
              "    .dataframe thead th {\n",
              "        text-align: right;\n",
              "    }\n",
              "</style>\n",
              "<table border=\"1\" class=\"dataframe\">\n",
              "  <thead>\n",
              "    <tr style=\"text-align: right;\">\n",
              "      <th></th>\n",
              "      <th>Date and time</th>\n",
              "      <th>Team 2019 IPL</th>\n",
              "      <th>Team 2019 IPL2</th>\n",
              "      <th>Venue</th>\n",
              "    </tr>\n",
              "  </thead>\n",
              "  <tbody>\n",
              "    <tr>\n",
              "      <th>0</th>\n",
              "      <td>21-Apr 2019</td>\n",
              "      <td>SRH</td>\n",
              "      <td>KKR</td>\n",
              "      <td>Hyderabad</td>\n",
              "    </tr>\n",
              "    <tr>\n",
              "      <th>1</th>\n",
              "      <td>21-April-2019</td>\n",
              "      <td>RCB</td>\n",
              "      <td>CSK</td>\n",
              "      <td>Bengaluru</td>\n",
              "    </tr>\n",
              "    <tr>\n",
              "      <th>2</th>\n",
              "      <td>22-04-2019 8pm</td>\n",
              "      <td>RR</td>\n",
              "      <td>DC</td>\n",
              "      <td>Jaipur</td>\n",
              "    </tr>\n",
              "    <tr>\n",
              "      <th>3</th>\n",
              "      <td>NaN</td>\n",
              "      <td>CSK</td>\n",
              "      <td>SRH</td>\n",
              "      <td>Chennai</td>\n",
              "    </tr>\n",
              "    <tr>\n",
              "      <th>4</th>\n",
              "      <td>NaN</td>\n",
              "      <td>RCB</td>\n",
              "      <td>KXIP</td>\n",
              "      <td>Bengaluru</td>\n",
              "    </tr>\n",
              "    <tr>\n",
              "      <th>5</th>\n",
              "      <td>25-Apr 2019 4:00 am</td>\n",
              "      <td>KKR</td>\n",
              "      <td>RR</td>\n",
              "      <td>Kolkata</td>\n",
              "    </tr>\n",
              "    <tr>\n",
              "      <th>6</th>\n",
              "      <td>26/04/2019</td>\n",
              "      <td>CSK</td>\n",
              "      <td>MI</td>\n",
              "      <td>Chennai</td>\n",
              "    </tr>\n",
              "    <tr>\n",
              "      <th>7</th>\n",
              "      <td>27-Apr 2019</td>\n",
              "      <td>RR</td>\n",
              "      <td>SRH</td>\n",
              "      <td>Jaipur</td>\n",
              "    </tr>\n",
              "    <tr>\n",
              "      <th>8</th>\n",
              "      <td>'28-Apr</td>\n",
              "      <td>DC</td>\n",
              "      <td>RCB</td>\n",
              "      <td>Delhi</td>\n",
              "    </tr>\n",
              "    <tr>\n",
              "      <th>9</th>\n",
              "      <td>NaN</td>\n",
              "      <td>KKR</td>\n",
              "      <td>MI</td>\n",
              "      <td>Kolkata</td>\n",
              "    </tr>\n",
              "    <tr>\n",
              "      <th>10</th>\n",
              "      <td>29-Apr 2019</td>\n",
              "      <td>SRH</td>\n",
              "      <td>KXIP</td>\n",
              "      <td>Hyderabad</td>\n",
              "    </tr>\n",
              "    <tr>\n",
              "      <th>11</th>\n",
              "      <td>30-Apr 2019</td>\n",
              "      <td>RCB</td>\n",
              "      <td>RR</td>\n",
              "      <td>Bengaluru</td>\n",
              "    </tr>\n",
              "  </tbody>\n",
              "</table>\n",
              "</div>"
            ],
            "text/plain": [
              "          Date and time Team 2019 IPL Team 2019 IPL2      Venue\n",
              "0           21-Apr 2019           SRH            KKR  Hyderabad\n",
              "1         21-April-2019           RCB            CSK  Bengaluru\n",
              "2        22-04-2019 8pm            RR             DC     Jaipur\n",
              "3                   NaN           CSK            SRH    Chennai\n",
              "4                   NaN           RCB           KXIP  Bengaluru\n",
              "5   25-Apr 2019 4:00 am           KKR             RR    Kolkata\n",
              "6            26/04/2019           CSK             MI    Chennai\n",
              "7           27-Apr 2019            RR            SRH     Jaipur\n",
              "8               '28-Apr            DC            RCB      Delhi\n",
              "9                   NaN           KKR             MI    Kolkata\n",
              "10          29-Apr 2019           SRH           KXIP  Hyderabad\n",
              "11          30-Apr 2019           RCB             RR  Bengaluru"
            ]
          },
          "metadata": {
            "tags": []
          },
          "execution_count": 9
        }
      ]
    },
    {
      "cell_type": "code",
      "metadata": {
        "id": "V4viVVP1D1UW",
        "colab_type": "code",
        "colab": {
          "base_uri": "https://localhost:8080/",
          "height": 34
        },
        "outputId": "dc6890a6-7c3a-4646-e070-6608849b2875"
      },
      "source": [
        "# Total number of rows and columns\n",
        "df2.shape"
      ],
      "execution_count": null,
      "outputs": [
        {
          "output_type": "execute_result",
          "data": {
            "text/plain": [
              "(12, 4)"
            ]
          },
          "metadata": {
            "tags": []
          },
          "execution_count": 10
        }
      ]
    },
    {
      "cell_type": "code",
      "metadata": {
        "id": "lj9uwW9ND8Nf",
        "colab_type": "code",
        "colab": {
          "base_uri": "https://localhost:8080/",
          "height": 34
        },
        "outputId": "6a01d661-f4f4-4dd3-e69f-fcb1e40b49a9"
      },
      "source": [
        "# Rows containing duplicate data\n",
        "duplicate_rows_df = df2[df2.duplicated()]\n",
        "print(\"number of duplicate rows: \", duplicate_rows_df.shape)"
      ],
      "execution_count": null,
      "outputs": [
        {
          "output_type": "stream",
          "text": [
            "number of duplicate rows:  (0, 4)\n"
          ],
          "name": "stdout"
        }
      ]
    },
    {
      "cell_type": "code",
      "metadata": {
        "id": "inmzFERmEEps",
        "colab_type": "code",
        "colab": {
          "base_uri": "https://localhost:8080/",
          "height": 103
        },
        "outputId": "da7315a7-501a-46aa-81a5-67e961a8d569"
      },
      "source": [
        "# Used to count the number of rows before removing the data\n",
        "df2.count()"
      ],
      "execution_count": null,
      "outputs": [
        {
          "output_type": "execute_result",
          "data": {
            "text/plain": [
              "Date and time      9\n",
              "Team 2019 IPL     12\n",
              "Team 2019 IPL2    12\n",
              "Venue             12\n",
              "dtype: int64"
            ]
          },
          "metadata": {
            "tags": []
          },
          "execution_count": 12
        }
      ]
    },
    {
      "cell_type": "code",
      "metadata": {
        "id": "ytXB56CGELJ9",
        "colab_type": "code",
        "colab": {
          "base_uri": "https://localhost:8080/",
          "height": 419
        },
        "outputId": "9645b291-8d63-444d-8ae2-9c855855c1a4"
      },
      "source": [
        "# Dropping the duplicates \n",
        "df2 = df2.drop_duplicates()\n",
        "df2"
      ],
      "execution_count": null,
      "outputs": [
        {
          "output_type": "execute_result",
          "data": {
            "text/html": [
              "<div>\n",
              "<style scoped>\n",
              "    .dataframe tbody tr th:only-of-type {\n",
              "        vertical-align: middle;\n",
              "    }\n",
              "\n",
              "    .dataframe tbody tr th {\n",
              "        vertical-align: top;\n",
              "    }\n",
              "\n",
              "    .dataframe thead th {\n",
              "        text-align: right;\n",
              "    }\n",
              "</style>\n",
              "<table border=\"1\" class=\"dataframe\">\n",
              "  <thead>\n",
              "    <tr style=\"text-align: right;\">\n",
              "      <th></th>\n",
              "      <th>Date and time</th>\n",
              "      <th>Team 2019 IPL</th>\n",
              "      <th>Team 2019 IPL2</th>\n",
              "      <th>Venue</th>\n",
              "    </tr>\n",
              "  </thead>\n",
              "  <tbody>\n",
              "    <tr>\n",
              "      <th>0</th>\n",
              "      <td>21-Apr 2019</td>\n",
              "      <td>SRH</td>\n",
              "      <td>KKR</td>\n",
              "      <td>Hyderabad</td>\n",
              "    </tr>\n",
              "    <tr>\n",
              "      <th>1</th>\n",
              "      <td>21-April-2019</td>\n",
              "      <td>RCB</td>\n",
              "      <td>CSK</td>\n",
              "      <td>Bengaluru</td>\n",
              "    </tr>\n",
              "    <tr>\n",
              "      <th>2</th>\n",
              "      <td>22-04-2019 8pm</td>\n",
              "      <td>RR</td>\n",
              "      <td>DC</td>\n",
              "      <td>Jaipur</td>\n",
              "    </tr>\n",
              "    <tr>\n",
              "      <th>3</th>\n",
              "      <td>NaN</td>\n",
              "      <td>CSK</td>\n",
              "      <td>SRH</td>\n",
              "      <td>Chennai</td>\n",
              "    </tr>\n",
              "    <tr>\n",
              "      <th>4</th>\n",
              "      <td>NaN</td>\n",
              "      <td>RCB</td>\n",
              "      <td>KXIP</td>\n",
              "      <td>Bengaluru</td>\n",
              "    </tr>\n",
              "    <tr>\n",
              "      <th>5</th>\n",
              "      <td>25-Apr 2019 4:00 am</td>\n",
              "      <td>KKR</td>\n",
              "      <td>RR</td>\n",
              "      <td>Kolkata</td>\n",
              "    </tr>\n",
              "    <tr>\n",
              "      <th>6</th>\n",
              "      <td>26/04/2019</td>\n",
              "      <td>CSK</td>\n",
              "      <td>MI</td>\n",
              "      <td>Chennai</td>\n",
              "    </tr>\n",
              "    <tr>\n",
              "      <th>7</th>\n",
              "      <td>27-Apr 2019</td>\n",
              "      <td>RR</td>\n",
              "      <td>SRH</td>\n",
              "      <td>Jaipur</td>\n",
              "    </tr>\n",
              "    <tr>\n",
              "      <th>8</th>\n",
              "      <td>'28-Apr</td>\n",
              "      <td>DC</td>\n",
              "      <td>RCB</td>\n",
              "      <td>Delhi</td>\n",
              "    </tr>\n",
              "    <tr>\n",
              "      <th>9</th>\n",
              "      <td>NaN</td>\n",
              "      <td>KKR</td>\n",
              "      <td>MI</td>\n",
              "      <td>Kolkata</td>\n",
              "    </tr>\n",
              "    <tr>\n",
              "      <th>10</th>\n",
              "      <td>29-Apr 2019</td>\n",
              "      <td>SRH</td>\n",
              "      <td>KXIP</td>\n",
              "      <td>Hyderabad</td>\n",
              "    </tr>\n",
              "    <tr>\n",
              "      <th>11</th>\n",
              "      <td>30-Apr 2019</td>\n",
              "      <td>RCB</td>\n",
              "      <td>RR</td>\n",
              "      <td>Bengaluru</td>\n",
              "    </tr>\n",
              "  </tbody>\n",
              "</table>\n",
              "</div>"
            ],
            "text/plain": [
              "          Date and time Team 2019 IPL Team 2019 IPL2      Venue\n",
              "0           21-Apr 2019           SRH            KKR  Hyderabad\n",
              "1         21-April-2019           RCB            CSK  Bengaluru\n",
              "2        22-04-2019 8pm            RR             DC     Jaipur\n",
              "3                   NaN           CSK            SRH    Chennai\n",
              "4                   NaN           RCB           KXIP  Bengaluru\n",
              "5   25-Apr 2019 4:00 am           KKR             RR    Kolkata\n",
              "6            26/04/2019           CSK             MI    Chennai\n",
              "7           27-Apr 2019            RR            SRH     Jaipur\n",
              "8               '28-Apr            DC            RCB      Delhi\n",
              "9                   NaN           KKR             MI    Kolkata\n",
              "10          29-Apr 2019           SRH           KXIP  Hyderabad\n",
              "11          30-Apr 2019           RCB             RR  Bengaluru"
            ]
          },
          "metadata": {
            "tags": []
          },
          "execution_count": 13
        }
      ]
    },
    {
      "cell_type": "code",
      "metadata": {
        "id": "tW7UOd0UER1D",
        "colab_type": "code",
        "colab": {
          "base_uri": "https://localhost:8080/",
          "height": 103
        },
        "outputId": "7fe4f5e5-090b-45e2-c9e2-28e6d87c9e86"
      },
      "source": [
        "# Counting the number of rows after removing duplicates.\n",
        "df2.count()"
      ],
      "execution_count": null,
      "outputs": [
        {
          "output_type": "execute_result",
          "data": {
            "text/plain": [
              "Date and time      9\n",
              "Team 2019 IPL     12\n",
              "Team 2019 IPL2    12\n",
              "Venue             12\n",
              "dtype: int64"
            ]
          },
          "metadata": {
            "tags": []
          },
          "execution_count": 14
        }
      ]
    },
    {
      "cell_type": "code",
      "metadata": {
        "id": "LtF_kBkkEXd3",
        "colab_type": "code",
        "colab": {
          "base_uri": "https://localhost:8080/",
          "height": 103
        },
        "outputId": "0d5235d7-2a40-4440-edec-65c97fcde934"
      },
      "source": [
        "# Finding the null values.\n",
        "print(df2.isnull().sum())"
      ],
      "execution_count": null,
      "outputs": [
        {
          "output_type": "stream",
          "text": [
            "Date and time     3\n",
            "Team 2019 IPL     0\n",
            "Team 2019 IPL2    0\n",
            "Venue             0\n",
            "dtype: int64\n"
          ],
          "name": "stdout"
        }
      ]
    },
    {
      "cell_type": "code",
      "metadata": {
        "id": "k7ti7SbuEgl8",
        "colab_type": "code",
        "colab": {
          "base_uri": "https://localhost:8080/",
          "height": 326
        },
        "outputId": "696a63a1-3eac-44f0-e657-a1461f75ef44"
      },
      "source": [
        "# Dropping the missing values.\n",
        "df2 = df2.dropna() \n",
        "df2.count()\n",
        "df2"
      ],
      "execution_count": null,
      "outputs": [
        {
          "output_type": "execute_result",
          "data": {
            "text/html": [
              "<div>\n",
              "<style scoped>\n",
              "    .dataframe tbody tr th:only-of-type {\n",
              "        vertical-align: middle;\n",
              "    }\n",
              "\n",
              "    .dataframe tbody tr th {\n",
              "        vertical-align: top;\n",
              "    }\n",
              "\n",
              "    .dataframe thead th {\n",
              "        text-align: right;\n",
              "    }\n",
              "</style>\n",
              "<table border=\"1\" class=\"dataframe\">\n",
              "  <thead>\n",
              "    <tr style=\"text-align: right;\">\n",
              "      <th></th>\n",
              "      <th>Date and time</th>\n",
              "      <th>Team 2019 IPL</th>\n",
              "      <th>Team 2019 IPL2</th>\n",
              "      <th>Venue</th>\n",
              "    </tr>\n",
              "  </thead>\n",
              "  <tbody>\n",
              "    <tr>\n",
              "      <th>0</th>\n",
              "      <td>21-Apr 2019</td>\n",
              "      <td>SRH</td>\n",
              "      <td>KKR</td>\n",
              "      <td>Hyderabad</td>\n",
              "    </tr>\n",
              "    <tr>\n",
              "      <th>1</th>\n",
              "      <td>21-April-2019</td>\n",
              "      <td>RCB</td>\n",
              "      <td>CSK</td>\n",
              "      <td>Bengaluru</td>\n",
              "    </tr>\n",
              "    <tr>\n",
              "      <th>2</th>\n",
              "      <td>22-04-2019 8pm</td>\n",
              "      <td>RR</td>\n",
              "      <td>DC</td>\n",
              "      <td>Jaipur</td>\n",
              "    </tr>\n",
              "    <tr>\n",
              "      <th>5</th>\n",
              "      <td>25-Apr 2019 4:00 am</td>\n",
              "      <td>KKR</td>\n",
              "      <td>RR</td>\n",
              "      <td>Kolkata</td>\n",
              "    </tr>\n",
              "    <tr>\n",
              "      <th>6</th>\n",
              "      <td>26/04/2019</td>\n",
              "      <td>CSK</td>\n",
              "      <td>MI</td>\n",
              "      <td>Chennai</td>\n",
              "    </tr>\n",
              "    <tr>\n",
              "      <th>7</th>\n",
              "      <td>27-Apr 2019</td>\n",
              "      <td>RR</td>\n",
              "      <td>SRH</td>\n",
              "      <td>Jaipur</td>\n",
              "    </tr>\n",
              "    <tr>\n",
              "      <th>8</th>\n",
              "      <td>'28-Apr</td>\n",
              "      <td>DC</td>\n",
              "      <td>RCB</td>\n",
              "      <td>Delhi</td>\n",
              "    </tr>\n",
              "    <tr>\n",
              "      <th>10</th>\n",
              "      <td>29-Apr 2019</td>\n",
              "      <td>SRH</td>\n",
              "      <td>KXIP</td>\n",
              "      <td>Hyderabad</td>\n",
              "    </tr>\n",
              "    <tr>\n",
              "      <th>11</th>\n",
              "      <td>30-Apr 2019</td>\n",
              "      <td>RCB</td>\n",
              "      <td>RR</td>\n",
              "      <td>Bengaluru</td>\n",
              "    </tr>\n",
              "  </tbody>\n",
              "</table>\n",
              "</div>"
            ],
            "text/plain": [
              "          Date and time Team 2019 IPL Team 2019 IPL2      Venue\n",
              "0           21-Apr 2019           SRH            KKR  Hyderabad\n",
              "1         21-April-2019           RCB            CSK  Bengaluru\n",
              "2        22-04-2019 8pm            RR             DC     Jaipur\n",
              "5   25-Apr 2019 4:00 am           KKR             RR    Kolkata\n",
              "6            26/04/2019           CSK             MI    Chennai\n",
              "7           27-Apr 2019            RR            SRH     Jaipur\n",
              "8               '28-Apr            DC            RCB      Delhi\n",
              "10          29-Apr 2019           SRH           KXIP  Hyderabad\n",
              "11          30-Apr 2019           RCB             RR  Bengaluru"
            ]
          },
          "metadata": {
            "tags": []
          },
          "execution_count": 16
        }
      ]
    },
    {
      "cell_type": "code",
      "metadata": {
        "id": "Z5e0vBN82u6f",
        "colab_type": "code",
        "colab": {
          "base_uri": "https://localhost:8080/",
          "height": 188
        },
        "outputId": "57636ca6-9767-459e-8c74-8e368a8b0118"
      },
      "source": [
        "#Using datefinder module we are extracting date and time coulmn and making list of dates in proper yy/mm/dd format\n",
        "#we make sure where some data of date and time not given would intake current timestamp or zero by default\n",
        "Dates=list(df2['Date and time'])\n",
        "j=0\n",
        "r=[]\n",
        "print(len(Dates))\n",
        "for j in range(len(Dates)):\n",
        " dater=datefinder.find_dates(Dates[j])\n",
        " for l in dater:\n",
        "  r.append(str(l))\n",
        "r "
      ],
      "execution_count": null,
      "outputs": [
        {
          "output_type": "stream",
          "text": [
            "9\n"
          ],
          "name": "stdout"
        },
        {
          "output_type": "execute_result",
          "data": {
            "text/plain": [
              "['2019-04-21 00:00:00',\n",
              " '2019-04-21 00:00:00',\n",
              " '2019-04-22 20:00:00',\n",
              " '2019-04-25 04:00:00',\n",
              " '2019-04-26 00:00:00',\n",
              " '2019-04-27 00:00:00',\n",
              " '2020-04-28 00:00:00',\n",
              " '2019-04-29 00:00:00',\n",
              " '2019-04-30 00:00:00']"
            ]
          },
          "metadata": {
            "tags": []
          },
          "execution_count": 82
        }
      ]
    },
    {
      "cell_type": "code",
      "metadata": {
        "id": "H98Lj9TmOtmj",
        "colab_type": "code",
        "colab": {
          "base_uri": "https://localhost:8080/",
          "height": 449
        },
        "outputId": "ea2000e4-3b4c-4c82-c6d2-ee2116e37e1b"
      },
      "source": [
        "df2['new_date']=r\n",
        "df2"
      ],
      "execution_count": null,
      "outputs": [
        {
          "output_type": "stream",
          "text": [
            "/usr/local/lib/python3.6/dist-packages/ipykernel_launcher.py:1: SettingWithCopyWarning: \n",
            "A value is trying to be set on a copy of a slice from a DataFrame.\n",
            "Try using .loc[row_indexer,col_indexer] = value instead\n",
            "\n",
            "See the caveats in the documentation: https://pandas.pydata.org/pandas-docs/stable/user_guide/indexing.html#returning-a-view-versus-a-copy\n",
            "  \"\"\"Entry point for launching an IPython kernel.\n"
          ],
          "name": "stderr"
        },
        {
          "output_type": "execute_result",
          "data": {
            "text/html": [
              "<div>\n",
              "<style scoped>\n",
              "    .dataframe tbody tr th:only-of-type {\n",
              "        vertical-align: middle;\n",
              "    }\n",
              "\n",
              "    .dataframe tbody tr th {\n",
              "        vertical-align: top;\n",
              "    }\n",
              "\n",
              "    .dataframe thead th {\n",
              "        text-align: right;\n",
              "    }\n",
              "</style>\n",
              "<table border=\"1\" class=\"dataframe\">\n",
              "  <thead>\n",
              "    <tr style=\"text-align: right;\">\n",
              "      <th></th>\n",
              "      <th>Date and time</th>\n",
              "      <th>Team 2019 IPL</th>\n",
              "      <th>Team 2019 IPL2</th>\n",
              "      <th>Venue</th>\n",
              "      <th>new_date</th>\n",
              "    </tr>\n",
              "  </thead>\n",
              "  <tbody>\n",
              "    <tr>\n",
              "      <th>0</th>\n",
              "      <td>21-Apr 2019</td>\n",
              "      <td>SRH</td>\n",
              "      <td>KKR</td>\n",
              "      <td>Hyderabad</td>\n",
              "      <td>2019-04-21 00:00:00</td>\n",
              "    </tr>\n",
              "    <tr>\n",
              "      <th>1</th>\n",
              "      <td>21-April-2019</td>\n",
              "      <td>RCB</td>\n",
              "      <td>CSK</td>\n",
              "      <td>Bengaluru</td>\n",
              "      <td>2019-04-21 00:00:00</td>\n",
              "    </tr>\n",
              "    <tr>\n",
              "      <th>2</th>\n",
              "      <td>22-04-2019 8pm</td>\n",
              "      <td>RR</td>\n",
              "      <td>DC</td>\n",
              "      <td>Jaipur</td>\n",
              "      <td>2019-04-22 20:00:00</td>\n",
              "    </tr>\n",
              "    <tr>\n",
              "      <th>5</th>\n",
              "      <td>25-Apr 2019 4:00 am</td>\n",
              "      <td>KKR</td>\n",
              "      <td>RR</td>\n",
              "      <td>Kolkata</td>\n",
              "      <td>2019-04-25 04:00:00</td>\n",
              "    </tr>\n",
              "    <tr>\n",
              "      <th>6</th>\n",
              "      <td>26/04/2019</td>\n",
              "      <td>CSK</td>\n",
              "      <td>MI</td>\n",
              "      <td>Chennai</td>\n",
              "      <td>2019-04-26 00:00:00</td>\n",
              "    </tr>\n",
              "    <tr>\n",
              "      <th>7</th>\n",
              "      <td>27-Apr 2019</td>\n",
              "      <td>RR</td>\n",
              "      <td>SRH</td>\n",
              "      <td>Jaipur</td>\n",
              "      <td>2019-04-27 00:00:00</td>\n",
              "    </tr>\n",
              "    <tr>\n",
              "      <th>8</th>\n",
              "      <td>'28-Apr</td>\n",
              "      <td>DC</td>\n",
              "      <td>RCB</td>\n",
              "      <td>Delhi</td>\n",
              "      <td>2020-04-28 00:00:00</td>\n",
              "    </tr>\n",
              "    <tr>\n",
              "      <th>10</th>\n",
              "      <td>29-Apr 2019</td>\n",
              "      <td>SRH</td>\n",
              "      <td>KXIP</td>\n",
              "      <td>Hyderabad</td>\n",
              "      <td>2019-04-29 00:00:00</td>\n",
              "    </tr>\n",
              "    <tr>\n",
              "      <th>11</th>\n",
              "      <td>30-Apr 2019</td>\n",
              "      <td>RCB</td>\n",
              "      <td>RR</td>\n",
              "      <td>Bengaluru</td>\n",
              "      <td>2019-04-30 00:00:00</td>\n",
              "    </tr>\n",
              "  </tbody>\n",
              "</table>\n",
              "</div>"
            ],
            "text/plain": [
              "          Date and time Team 2019 IPL  ...      Venue             new_date\n",
              "0           21-Apr 2019           SRH  ...  Hyderabad  2019-04-21 00:00:00\n",
              "1         21-April-2019           RCB  ...  Bengaluru  2019-04-21 00:00:00\n",
              "2        22-04-2019 8pm            RR  ...     Jaipur  2019-04-22 20:00:00\n",
              "5   25-Apr 2019 4:00 am           KKR  ...    Kolkata  2019-04-25 04:00:00\n",
              "6            26/04/2019           CSK  ...    Chennai  2019-04-26 00:00:00\n",
              "7           27-Apr 2019            RR  ...     Jaipur  2019-04-27 00:00:00\n",
              "8               '28-Apr            DC  ...      Delhi  2020-04-28 00:00:00\n",
              "10          29-Apr 2019           SRH  ...  Hyderabad  2019-04-29 00:00:00\n",
              "11          30-Apr 2019           RCB  ...  Bengaluru  2019-04-30 00:00:00\n",
              "\n",
              "[9 rows x 5 columns]"
            ]
          },
          "metadata": {
            "tags": []
          },
          "execution_count": 18
        }
      ]
    },
    {
      "cell_type": "code",
      "metadata": {
        "id": "TUP7s_dhQBur",
        "colab_type": "code",
        "colab": {
          "base_uri": "https://localhost:8080/",
          "height": 120
        },
        "outputId": "ef610163-4510-46c8-c849-1b092ba72c2f"
      },
      "source": [
        "df2.dtypes"
      ],
      "execution_count": null,
      "outputs": [
        {
          "output_type": "execute_result",
          "data": {
            "text/plain": [
              "Date and time     object\n",
              "Team 2019 IPL     object\n",
              "Team 2019 IPL2    object\n",
              "Venue             object\n",
              "new_date          object\n",
              "dtype: object"
            ]
          },
          "metadata": {
            "tags": []
          },
          "execution_count": 64
        }
      ]
    },
    {
      "cell_type": "code",
      "metadata": {
        "id": "l5BXI6eFU9A-",
        "colab_type": "code",
        "colab": {}
      },
      "source": [
        "import itertools  #for finding unique combination in new date columns\n",
        "from datetime import datetime #for finding difference between dates interms of days"
      ],
      "execution_count": null,
      "outputs": []
    },
    {
      "cell_type": "code",
      "metadata": {
        "id": "eWTIxhE5VU03",
        "colab_type": "code",
        "colab": {
          "base_uri": "https://localhost:8080/",
          "height": 634
        },
        "outputId": "beb1634d-0fde-4182-c90e-659627b78d43"
      },
      "source": [
        "#printing all possible combination witout repetitions\n",
        "comb=list(itertools.combinations(df2['new_date'], 2))#making list of pairs of combined dates from dataframe\n",
        "for i in range(len(comb)) :\n",
        "  datef=comb[i][1]\n",
        "  datei=comb[i][0]\n",
        "  start_date = datetime.strptime(datef, '%Y-%m-%d %H:%M:%S')\n",
        "  end_date = datetime.strptime(datei, '%Y-%m-%d %H:%M:%S')\n",
        "  delta=start_date-end_date\n",
        "  print(\"the difference between\",datef,\"and\",datei,\"is\",delta,\"hrs\")"
      ],
      "execution_count": null,
      "outputs": [
        {
          "output_type": "stream",
          "text": [
            "the difference between 2019-04-21 00:00:00 and 2019-04-21 00:00:00 is 0:00:00 hrs\n",
            "the difference between 2019-04-22 20:00:00 and 2019-04-21 00:00:00 is 1 day, 20:00:00 hrs\n",
            "the difference between 2019-04-25 04:00:00 and 2019-04-21 00:00:00 is 4 days, 4:00:00 hrs\n",
            "the difference between 2019-04-26 00:00:00 and 2019-04-21 00:00:00 is 5 days, 0:00:00 hrs\n",
            "the difference between 2019-04-27 00:00:00 and 2019-04-21 00:00:00 is 6 days, 0:00:00 hrs\n",
            "the difference between 2020-04-28 00:00:00 and 2019-04-21 00:00:00 is 373 days, 0:00:00 hrs\n",
            "the difference between 2019-04-29 00:00:00 and 2019-04-21 00:00:00 is 8 days, 0:00:00 hrs\n",
            "the difference between 2019-04-30 00:00:00 and 2019-04-21 00:00:00 is 9 days, 0:00:00 hrs\n",
            "the difference between 2019-04-22 20:00:00 and 2019-04-21 00:00:00 is 1 day, 20:00:00 hrs\n",
            "the difference between 2019-04-25 04:00:00 and 2019-04-21 00:00:00 is 4 days, 4:00:00 hrs\n",
            "the difference between 2019-04-26 00:00:00 and 2019-04-21 00:00:00 is 5 days, 0:00:00 hrs\n",
            "the difference between 2019-04-27 00:00:00 and 2019-04-21 00:00:00 is 6 days, 0:00:00 hrs\n",
            "the difference between 2020-04-28 00:00:00 and 2019-04-21 00:00:00 is 373 days, 0:00:00 hrs\n",
            "the difference between 2019-04-29 00:00:00 and 2019-04-21 00:00:00 is 8 days, 0:00:00 hrs\n",
            "the difference between 2019-04-30 00:00:00 and 2019-04-21 00:00:00 is 9 days, 0:00:00 hrs\n",
            "the difference between 2019-04-25 04:00:00 and 2019-04-22 20:00:00 is 2 days, 8:00:00 hrs\n",
            "the difference between 2019-04-26 00:00:00 and 2019-04-22 20:00:00 is 3 days, 4:00:00 hrs\n",
            "the difference between 2019-04-27 00:00:00 and 2019-04-22 20:00:00 is 4 days, 4:00:00 hrs\n",
            "the difference between 2020-04-28 00:00:00 and 2019-04-22 20:00:00 is 371 days, 4:00:00 hrs\n",
            "the difference between 2019-04-29 00:00:00 and 2019-04-22 20:00:00 is 6 days, 4:00:00 hrs\n",
            "the difference between 2019-04-30 00:00:00 and 2019-04-22 20:00:00 is 7 days, 4:00:00 hrs\n",
            "the difference between 2019-04-26 00:00:00 and 2019-04-25 04:00:00 is 20:00:00 hrs\n",
            "the difference between 2019-04-27 00:00:00 and 2019-04-25 04:00:00 is 1 day, 20:00:00 hrs\n",
            "the difference between 2020-04-28 00:00:00 and 2019-04-25 04:00:00 is 368 days, 20:00:00 hrs\n",
            "the difference between 2019-04-29 00:00:00 and 2019-04-25 04:00:00 is 3 days, 20:00:00 hrs\n",
            "the difference between 2019-04-30 00:00:00 and 2019-04-25 04:00:00 is 4 days, 20:00:00 hrs\n",
            "the difference between 2019-04-27 00:00:00 and 2019-04-26 00:00:00 is 1 day, 0:00:00 hrs\n",
            "the difference between 2020-04-28 00:00:00 and 2019-04-26 00:00:00 is 368 days, 0:00:00 hrs\n",
            "the difference between 2019-04-29 00:00:00 and 2019-04-26 00:00:00 is 3 days, 0:00:00 hrs\n",
            "the difference between 2019-04-30 00:00:00 and 2019-04-26 00:00:00 is 4 days, 0:00:00 hrs\n",
            "the difference between 2020-04-28 00:00:00 and 2019-04-27 00:00:00 is 367 days, 0:00:00 hrs\n",
            "the difference between 2019-04-29 00:00:00 and 2019-04-27 00:00:00 is 2 days, 0:00:00 hrs\n",
            "the difference between 2019-04-30 00:00:00 and 2019-04-27 00:00:00 is 3 days, 0:00:00 hrs\n",
            "the difference between 2019-04-29 00:00:00 and 2020-04-28 00:00:00 is -365 days, 0:00:00 hrs\n",
            "the difference between 2019-04-30 00:00:00 and 2020-04-28 00:00:00 is -364 days, 0:00:00 hrs\n",
            "the difference between 2019-04-30 00:00:00 and 2019-04-29 00:00:00 is 1 day, 0:00:00 hrs\n"
          ],
          "name": "stdout"
        }
      ]
    }
  ]
}